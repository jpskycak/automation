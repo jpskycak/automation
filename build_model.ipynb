{
 "cells": [
  {
   "cell_type": "code",
   "execution_count": 5,
   "metadata": {
    "collapsed": false
   },
   "outputs": [],
   "source": [
    "import os\n",
    "from PIL import Image\n",
    "ones = {filename: Image.open('templates/ones/'+filename) for filename in os.listdir('templates/ones')}\n",
    "tens = {filename: Image.open('templates/tens/'+filename) for filename in os.listdir('templates/tens')}\n",
    "hundreds = {filename: Image.open('templates/hundreds/'+filename) for filename in os.listdir('templates/hundreds')}"
   ]
  },
  {
   "cell_type": "code",
   "execution_count": null,
   "metadata": {
    "collapsed": true
   },
   "outputs": [],
   "source": []
  },
  {
   "cell_type": "code",
   "execution_count": 4,
   "metadata": {
    "collapsed": false
   },
   "outputs": [
    {
     "data": {
      "text/plain": [
       "['7_001.png',\n",
       " '7_002.png',\n",
       " '9_001.png',\n",
       " '0_001.png',\n",
       " '2_001.png',\n",
       " '4_002.png',\n",
       " '4_001.png',\n",
       " '2_002.png',\n",
       " '6_001.png',\n",
       " '8_001.png',\n",
       " '6_002.png',\n",
       " '1_002.png',\n",
       " '1_001.png',\n",
       " '5_002.png',\n",
       " '3_001.png',\n",
       " '3_002.png',\n",
       " '5_001.png']"
      ]
     },
     "execution_count": 4,
     "metadata": {},
     "output_type": "execute_result"
    }
   ],
   "source": [
    "existing_templates_ones.keys()"
   ]
  },
  {
   "cell_type": "code",
   "execution_count": null,
   "metadata": {
    "collapsed": true
   },
   "outputs": [],
   "source": []
  }
 ],
 "metadata": {
  "kernelspec": {
   "display_name": "Python 2",
   "language": "python",
   "name": "python2"
  },
  "language_info": {
   "codemirror_mode": {
    "name": "ipython",
    "version": 2
   },
   "file_extension": ".py",
   "mimetype": "text/x-python",
   "name": "python",
   "nbconvert_exporter": "python",
   "pygments_lexer": "ipython2",
   "version": "2.7.13"
  }
 },
 "nbformat": 4,
 "nbformat_minor": 2
}
