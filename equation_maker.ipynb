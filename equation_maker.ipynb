{
 "cells": [
  {
   "cell_type": "code",
   "execution_count": 7,
   "metadata": {
    "collapsed": true
   },
   "outputs": [],
   "source": [
    "from sympy import *\n",
    "x, y, z = symbols('x y z')\n",
    "init_printing()\n",
    "\n",
    "def cms_markup(latex_str):\n",
    "    return latex_str.replace('}}','} }').replace('}}','} }').replace('}}','} }').replace('}}','} }').replace('}}','} }').replace('}}','} }').replace('}}','} }').replace('}}','} }').replace('}}','} }')"
   ]
  },
  {
   "cell_type": "code",
   "execution_count": 15,
   "metadata": {
    "collapsed": false
   },
   "outputs": [
    {
     "name": "stdout",
     "output_type": "stream",
     "text": [
      "- \\frac{- \\frac{x^{2} }{\\left(x^{2} + 1\\right)^{\\frac{3}{2} } } + \\frac{1}{\\sqrt{x^{2} + 1} } }{x + \\sqrt{x^{2} + 1} } - \\frac{1}{\\left(x + \\sqrt{x^{2} + 1}\\right)^{2} } \\left(- \\frac{x}{\\sqrt{x^{2} + 1} } - 1\\right) \\left(\\frac{x}{\\sqrt{x^{2} + 1} } + 1\\right) - \\frac{1}{\\left(x + 1\\right)^{2} }\n"
     ]
    }
   ],
   "source": [
    "print cms_markup(latex(diff(diff(ln(1+x)-ln(x+sqrt(1+x**2))), x)))"
   ]
  },
  {
   "cell_type": "code",
   "execution_count": 6,
   "metadata": {
    "collapsed": false
   },
   "outputs": [
    {
     "name": "stdout",
     "output_type": "stream",
     "text": [
      "- \\frac{- \\frac{x^{2} }{\\left(x^{2} + 1\\right)^{\\frac{3}{2} } } + \\frac{1}{\\sqrt{x^{2} + 1} } }{x + \\sqrt{x^{2} + 1} } - \\frac{1}{\\left(x + \\sqrt{x^{2} + 1}\\right)^{2} } \\left(- \\frac{x}{\\sqrt{x^{2} + 1} } - 1\\right) \\left(\\frac{x}{\\sqrt{x^{2} + 1} } + 1\\right) - \\frac{1}{\\left(x + 1\\right)^{2} }\n"
     ]
    }
   ],
   "source": [
    "print latex(diff(diff(ln(1+x)-ln(x+sqrt(1+x**2))), x)).replace('}}','} }').replace('}}','} }')"
   ]
  },
  {
   "cell_type": "code",
   "execution_count": 25,
   "metadata": {
    "collapsed": false
   },
   "outputs": [
    {
     "name": "stdout",
     "output_type": "stream",
     "text": [
      "\\frac{\\log{\\left (x + 1 \\right )} }{x + \\sqrt{x^{2} + 1} } \\left(\\frac{x}{\\sqrt{x^{2} + 1} } + 1\\right) + \\frac{1}{x + 1} \\log{\\left (x + \\sqrt{x^{2} + 1} \\right )}\n"
     ]
    }
   ],
   "source": [
    "print cms_markup(latex(diff(ln(1+x)*ln(x+sqrt(1+x**2)),x)))"
   ]
  },
  {
   "cell_type": "code",
   "execution_count": 23,
   "metadata": {
    "collapsed": false
   },
   "outputs": [
    {
     "name": "stdout",
     "output_type": "stream",
     "text": [
      "\\frac{\\log{\\left (x + 1 \\right )} }{x + \\sqrt{x^{2} + 1} } \\left(- \\frac{x^{2} }{\\left(x^{2} + 1\\right)^{\\frac{3}{2} } } + \\frac{1}{\\sqrt{x^{2} + 1} }\\right) + \\frac{\\log{\\left (x + 1 \\right )} }{\\left(x + \\sqrt{x^{2} + 1}\\right)^{2} } \\left(- \\frac{x}{\\sqrt{x^{2} + 1} } - 1\\right) \\left(\\frac{x}{\\sqrt{x^{2} + 1} } + 1\\right) + \\frac{\\frac{2 x}{\\sqrt{x^{2} + 1} } + 2}{\\left(x + 1\\right) \\left(x + \\sqrt{x^{2} + 1}\\right)} - \\frac{1}{\\left(x + 1\\right)^{2} } \\log{\\left (x + \\sqrt{x^{2} + 1} \\right )}\n"
     ]
    }
   ],
   "source": [
    "print cms_markup(latex(diff(diff(ln(1+x)*ln(x+sqrt(1+x**2)),x),x)))"
   ]
  },
  {
   "cell_type": "code",
   "execution_count": null,
   "metadata": {
    "collapsed": true
   },
   "outputs": [],
   "source": []
  }
 ],
 "metadata": {
  "kernelspec": {
   "display_name": "Python 2",
   "language": "python",
   "name": "python2"
  },
  "language_info": {
   "codemirror_mode": {
    "name": "ipython",
    "version": 2
   },
   "file_extension": ".py",
   "mimetype": "text/x-python",
   "name": "python",
   "nbconvert_exporter": "python",
   "pygments_lexer": "ipython2",
   "version": "2.7.13"
  }
 },
 "nbformat": 4,
 "nbformat_minor": 2
}
