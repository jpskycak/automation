{
 "cells": [
  {
   "cell_type": "code",
   "execution_count": 1,
   "metadata": {
    "collapsed": false
   },
   "outputs": [
    {
     "name": "stdout",
     "output_type": "stream",
     "text": [
      "!!!Triple product\n",
      "The volume of a parallelepiped can be found by applying the triple product formula to three of its edges. If the edge vectors are {eq}a,b,c{/eq}, then formula is given by {eq}(a \\times b) \\cdot c{/eq}. The formula works because the cross product gives a vector which is perpendicular to the base and has magnitude equal to the area of the base. Taking the dot product after the cross product, then, is equivalent to multiplying the area of the base by the height.\n"
     ]
    }
   ],
   "source": [
    "import random\n",
    "import nltk.data\n",
    "#nltk.download('punkt')\n",
    "tokenizer = nltk.data.load('tokenizers/punkt/english.pickle')\n",
    "from context_templates import *\n",
    "\n",
    "contexts={}\n",
    "contexts['!!!Cross product'] = {'template': cross_product_template, 'switches': cross_product_switches}\n",
    "contexts['!!!Line integrals'] = {'template': line_integrals_template, 'switches': line_integrals_switches}\n",
    "contexts['!!!Lagrange multipliers'] = {'template': lagrange_multipliers_template, 'switches': lagrange_multipliers_switches}\n",
    "contexts['!!!Separable Differential Equations'] = {'template': separable_differential_equations_template, 'switches': separable_differential_equations_switches}\n",
    "contexts['!!!Dot product'] = {'template': dot_product_template, 'switches': dot_product_switches}\n",
    "\n",
    "contexts['!!!Initial condition problems'] = {'template': initial_condition_problems_template, 'switches': initial_condition_problems_switches}\n",
    "contexts['!!!Equation of a sphere'] = {'template': equation_of_a_sphere_template, 'switches': equation_of_a_sphere_switches}\n",
    "contexts['!!!Directional Derivatives'] = {'template': directional_derivatives_template, 'switches': directional_derivatives_switches}\n",
    "contexts['!!!Indefinite integrals'] = {'template': indefinite_integrals_template, 'switches': indefinite_integrals_switches}\n",
    "contexts['!!!Tangent lines'] = {'template': tangent_lines_template, 'switches': tangent_lines_switches}\n",
    "\n",
    "contexts['!!!Derivative as rate of change'] = {'template': derivative_as_rate_of_change_template, 'switches': derivative_as_rate_of_change_switches}\n",
    "contexts['!!!Tangent planes'] = {'template': tangent_planes_template, 'switches': tangent_planes_switches}\n",
    "contexts[\"!!!L'Hopital's rule\"] = {'template': lhopitals_rule_template, 'switches': lhopitals_rule_switches}\n",
    "contexts[\"!!!Hooke's law\"] = {'template': hookes_law_template, 'switches': hookes_law_switches}\n",
    "contexts[\"!!!Kinematics\"] = {'template': kinematics_template, 'switches': kinematics_switches}\n",
    "\n",
    "contexts[\"!!!Linear approximation\"] = {'template': linear_approximation_template, 'switches': linear_approximation_switches}\n",
    "contexts[\"!!!Arc length\"] = {'template': arc_length_template, 'switches': arc_length_switches}\n",
    "contexts[\"!!!Average value of a function\"] = {'template': average_value_of_a_function_template, 'switches': average_value_of_a_function_switches}\n",
    "contexts[\"!!!Triple product\"] = {'template': triple_product_template, 'switches': triple_product_switches}\n",
    "\n",
    "\n",
    "\n",
    "lookup=\"!!!Triple product\"\n",
    "template = contexts[lookup]['template']\n",
    "switches = contexts[lookup]['switches']\n",
    "switches_instance = {k:random.choice(v) for k,v in switches.iteritems()}\n",
    "template_instance = random.choice(template).format(**switches_instance)\n",
    "\n",
    "template_instance = template_instance.replace('  ',' ')\n",
    "\n",
    "if lookup==\"!!!Cross product\":\n",
    "    sentences = tokenizer.tokenize(template_instance)\n",
    "    sentences = [sent.capitalize() for sent in sentences]\n",
    "    template_instance = ' '.join(sentences)\n",
    "\n",
    "#with open(\"context_output.txt\", \"w\") as text_file:\n",
    "#    text_file.write(lookup+'\\n'+template_instance)\n",
    "print lookup+'\\n'+template_instance"
   ]
  },
  {
   "cell_type": "code",
   "execution_count": null,
   "metadata": {
    "collapsed": false
   },
   "outputs": [],
   "source": [
    "switches"
   ]
  },
  {
   "cell_type": "code",
   "execution_count": null,
   "metadata": {
    "collapsed": true
   },
   "outputs": [],
   "source": []
  }
 ],
 "metadata": {
  "kernelspec": {
   "display_name": "Python 2",
   "language": "python",
   "name": "python2"
  },
  "language_info": {
   "codemirror_mode": {
    "name": "ipython",
    "version": 2
   },
   "file_extension": ".py",
   "mimetype": "text/x-python",
   "name": "python",
   "nbconvert_exporter": "python",
   "pygments_lexer": "ipython2",
   "version": "2.7.13"
  }
 },
 "nbformat": 4,
 "nbformat_minor": 2
}
