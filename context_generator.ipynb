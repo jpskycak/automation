{
 "cells": [
  {
   "cell_type": "code",
   "execution_count": 1,
   "metadata": {
    "collapsed": false
   },
   "outputs": [
    {
     "name": "stdout",
     "output_type": "stream",
     "text": [
      "['!!!Path Integrals', '!!!Tangent Plane to a Surface', '!!!Dot Product', '!!!Cross Product', '!!!Lagrange Multipliers', \"!!!Hooke's Law\", '!!!Optimizing via Critical Points', '!!!Linear Approximation', '!!!The Fundamental Theorem of Calculus', '!!!Tangent Lines', '!!!The Chain Rule', '!!!Modeling with Exponential Functions', '!!!Kinematics', '!!!Polar Coordinates', '!!!Arc Length', '!!!Inflection Points', \"!!!L'Hopital's Rule\", '!!!Acceleration, Velocity, and Position', '!!!Average Value of a Function', '!!!Derivative as Rate of Change', '!!!Approximating Integrals', '!!!Derivative of the Exponential Function', '!!!Separable Differential Equations', '!!!Indefinite Integrals', '!!!Triple Product', '!!!Line Integrals', '!!!Evaluating Limits via Direct Substitution', '!!!Equation of a Sphere', '!!!Directional Derivatives', '!!!Product Rule', '!!!Quotient Rule', '!!!Initial Condition Problems', '!!!The Characteristic Polynomial']\n"
     ]
    }
   ],
   "source": [
    "from context_templates import *\n",
    "print_lookups()"
   ]
  },
  {
   "cell_type": "code",
   "execution_count": 3,
   "metadata": {
    "collapsed": false,
    "scrolled": true
   },
   "outputs": [
    {
     "name": "stdout",
     "output_type": "stream",
     "text": [
      "!!!Approximating Integrals\n",
      "To numerically commpute an integral, we can split the domain of integration into smaller pieces and sum up the area or volume over all of those pieces. Riemann sums, for example, involve splitting the integral into rectangles of equal width, each of whose height to the the left or right corner is given by the function value. There are more advanced methods which yield better approximates, such as midpoint and trapezoidal approximation. In midpoint approximation, the height midway between the left and right corners is given by the function value; in trapezoidal approximation, the left and right Riemann sums are averaged.\n"
     ]
    }
   ],
   "source": [
    "make_random_context(lookup='!!!Approximating Integrals')"
   ]
  },
  {
   "cell_type": "code",
   "execution_count": null,
   "metadata": {
    "collapsed": true
   },
   "outputs": [],
   "source": []
  }
 ],
 "metadata": {
  "kernelspec": {
   "display_name": "Python 2",
   "language": "python",
   "name": "python2"
  },
  "language_info": {
   "codemirror_mode": {
    "name": "ipython",
    "version": 2
   },
   "file_extension": ".py",
   "mimetype": "text/x-python",
   "name": "python",
   "nbconvert_exporter": "python",
   "pygments_lexer": "ipython2",
   "version": "2.7.13"
  }
 },
 "nbformat": 4,
 "nbformat_minor": 2
}
