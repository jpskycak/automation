{
 "cells": [
  {
   "cell_type": "code",
   "execution_count": 3,
   "metadata": {
    "collapsed": false
   },
   "outputs": [
    {
     "name": "stdout",
     "output_type": "stream",
     "text": [
      "['!!!Path Integrals', '!!!Tangent Plane to a Surface', '!!!Dot Product', '!!!Normal Vector of a Plane', '!!!Cross Product', '!!!Lagrange Multipliers', \"!!!Hooke's Law\", '!!!Optimizing via Critical Points', '!!!Linear Approximation', '!!!The Fundamental Theorem of Calculus', '!!!Tangent Lines', '!!!The Chain Rule', '!!!Modeling with Exponential Functions', '!!!Kinematics', '!!!Polar Coordinates', '!!!Arc Length', '!!!Inflection Points', \"!!!L'Hopital's Rule\", '!!!Implicit Differentiation', '!!!Curvature', '!!!Acceleration, Velocity, and Position', '!!!Average Value of a Function', '!!!Derivative as Rate of Change', '!!!Approximating Integrals', '!!!Derivative of the Exponential Function', '!!!Separable Differential Equations', '!!!Error Approximation with Differentials', '!!!Indefinite Integrals', '!!!Triple Product', '!!!Line Integrals', '!!!Evaluating Limits via Direct Substitution', '!!!Equation of a Sphere', '!!!Directional Derivatives', '!!!Product Rule', '!!!Quotient Rule', '!!!Initial Condition Problems', '!!!The Characteristic Polynomial']\n"
     ]
    }
   ],
   "source": [
    "from context_templates import *\n",
    "print_lookups()"
   ]
  },
  {
   "cell_type": "code",
   "execution_count": 9,
   "metadata": {
    "collapsed": false,
    "scrolled": true
   },
   "outputs": [
    {
     "name": "stdout",
     "output_type": "stream",
     "text": [
      "!!!Normal Vector of a Plane\n",
      "For a plane {eq}Ax + By + Cz = k{/eq}, the standard normal vector is given by {eq}\\langle A, B, C \\rangle{/eq}. Since this vector is perpendicular to the plane, it can be thought of as the new \"up\" or \"down\" direction in a coordinate system whose horizontal directions are given by vectors within the plane.\n"
     ]
    }
   ],
   "source": [
    "make_random_context(lookup='!!!Normal Vector of a Plane')"
   ]
  },
  {
   "cell_type": "code",
   "execution_count": null,
   "metadata": {
    "collapsed": true
   },
   "outputs": [],
   "source": []
  }
 ],
 "metadata": {
  "kernelspec": {
   "display_name": "Python 2",
   "language": "python",
   "name": "python2"
  },
  "language_info": {
   "codemirror_mode": {
    "name": "ipython",
    "version": 2
   },
   "file_extension": ".py",
   "mimetype": "text/x-python",
   "name": "python",
   "nbconvert_exporter": "python",
   "pygments_lexer": "ipython2",
   "version": "2.7.13"
  }
 },
 "nbformat": 4,
 "nbformat_minor": 2
}
