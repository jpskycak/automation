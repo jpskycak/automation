{
 "cells": [
  {
   "cell_type": "code",
   "execution_count": 1,
   "metadata": {
    "collapsed": false
   },
   "outputs": [],
   "source": [
    "from context_templates import *"
   ]
  },
  {
   "cell_type": "code",
   "execution_count": 2,
   "metadata": {
    "collapsed": false
   },
   "outputs": [
    {
     "name": "stdout",
     "output_type": "stream",
     "text": [
      "['!!!Derivative as Rate of Change', \"!!!L'Hopital's Rule\", '!!!Triple Product', '!!!Equation of a Sphere', '!!!Kinematics', '!!!Directional Derivatives', '!!!Tangent Planes', '!!!Dot product', '!!!Inflection Points', '!!!Arc Length', '!!!Average Value of a Function', '!!!Cross product', '!!!Lagrange multipliers', '!!!Tangent Lines', '!!!Separable Differential Equations', \"!!!Hooke's Law\", '!!!Indefinite Integrals', '!!!Initial Condition Problems', '!!!Linear Approximation', '!!!Line integrals']\n"
     ]
    }
   ],
   "source": [
    "print_lookups()"
   ]
  },
  {
   "cell_type": "code",
   "execution_count": 4,
   "metadata": {
    "collapsed": false
   },
   "outputs": [
    {
     "name": "stdout",
     "output_type": "stream",
     "text": [
      "!!!Inflection Points\n",
      "An inflection point of a function is a point where the function changes concavity. By setting the second derivative equal to zero, we can find candidates to inflection points. We also need to include those points where the second derivative is undefined. That being said, the function does not necessarily change concavity at these points, so we need to test them to be sure.\n"
     ]
    }
   ],
   "source": [
    "make_random_context(lookup='!!!Inflection Points')"
   ]
  },
  {
   "cell_type": "code",
   "execution_count": null,
   "metadata": {
    "collapsed": true
   },
   "outputs": [],
   "source": []
  }
 ],
 "metadata": {
  "kernelspec": {
   "display_name": "Python 2",
   "language": "python",
   "name": "python2"
  },
  "language_info": {
   "codemirror_mode": {
    "name": "ipython",
    "version": 2
   },
   "file_extension": ".py",
   "mimetype": "text/x-python",
   "name": "python",
   "nbconvert_exporter": "python",
   "pygments_lexer": "ipython2",
   "version": "2.7.13"
  }
 },
 "nbformat": 4,
 "nbformat_minor": 2
}
