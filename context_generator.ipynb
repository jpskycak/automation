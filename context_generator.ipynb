{
 "cells": [
  {
   "cell_type": "code",
   "execution_count": 1,
   "metadata": {
    "collapsed": false
   },
   "outputs": [
    {
     "name": "stdout",
     "output_type": "stream",
     "text": [
      "['!!!Path Integrals', '!!!Tangent Planes', '!!!Dot Product', '!!!Cross Product', '!!!Lagrange Multipliers', \"!!!Hooke's Law\", '!!!Optimizing via Critical Points', '!!!Linear Approximation', '!!!The Fundamental Theorem of Calculus', '!!!Tangent Lines', '!!!Kinematics', '!!!Polar Coordinates', '!!!Arc Length', '!!!Inflection Points', \"!!!L'Hopital's Rule\", '!!!Acceleration, Velocity, and Position', '!!!Average Value of a Function', '!!!Derivative as Rate of Change', '!!!Approximating Integrals', '!!!Derivative of the Exponential Function', '!!!Separable Differential Equations', '!!!Indefinite Integrals', '!!!Triple Product', '!!!Line Integrals', '!!!Evaluating Limits via Direct Substitution', '!!!Equation of a Sphere', '!!!Directional Derivatives', '!!!Product Rule', '!!!Quotient Rule', '!!!Initial Condition Problems', '!!!The Characteristic Polynomial']\n"
     ]
    }
   ],
   "source": [
    "from context_templates import *\n",
    "print_lookups()"
   ]
  },
  {
   "cell_type": "code",
   "execution_count": 4,
   "metadata": {
    "collapsed": false,
    "scrolled": true
   },
   "outputs": [
    {
     "name": "stdout",
     "output_type": "stream",
     "text": [
      "!!!Average Value of a Function\n",
      "The average value of a single-variable function is given by {eq}\\frac{\\int f(x) dx}{\\int dx}{/eq}. To find the average value of a two-variable function over an area, one needs to sum the function and divide by the total area: {eq}\\frac{\\int f(x,y) dxdy}{\\int dxdy}{/eq}. In general, in ''n'' dimensions, the average value of a function is given by {eq}\\frac{\\int f(x_1, ..., x_n) dx_1...dx_n}{\\int dx_1...dx_n}{/eq}.\n"
     ]
    }
   ],
   "source": [
    "make_random_context(lookup='!!!Average Value of a Function')"
   ]
  },
  {
   "cell_type": "code",
   "execution_count": null,
   "metadata": {
    "collapsed": true
   },
   "outputs": [],
   "source": []
  }
 ],
 "metadata": {
  "kernelspec": {
   "display_name": "Python 2",
   "language": "python",
   "name": "python2"
  },
  "language_info": {
   "codemirror_mode": {
    "name": "ipython",
    "version": 2
   },
   "file_extension": ".py",
   "mimetype": "text/x-python",
   "name": "python",
   "nbconvert_exporter": "python",
   "pygments_lexer": "ipython2",
   "version": "2.7.13"
  }
 },
 "nbformat": 4,
 "nbformat_minor": 2
}
