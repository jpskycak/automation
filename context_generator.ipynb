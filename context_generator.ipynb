{
 "cells": [
  {
   "cell_type": "code",
   "execution_count": 1,
   "metadata": {
    "collapsed": false
   },
   "outputs": [
    {
     "name": "stdout",
     "output_type": "stream",
     "text": [
      "['!!!Path Integrals', '!!!Area in Polar Coordinates', '!!!Tangent Plane to a Surface', '!!!Dot Product', '!!!Normal Vector of a Plane', '!!!Cross Product', '!!!Lagrange Multipliers', \"!!!Hooke's Law\", '!!!Optimizing via Critical Points', '!!!Linear Approximation', '!!!The Fundamental Theorem of Calculus', '!!!Tangent Lines', '!!!The Chain Rule', '!!!Modeling with Exponential Functions', '!!!Kinematics', '!!!Polar Coordinates', '!!!Arc Length', '!!!Inflection Points', \"!!!L'Hopital's Rule\", '!!!Implicit Differentiation', '!!!Curvature', '!!!Acceleration, Velocity, and Position', '!!!Average Value of a Function', '!!!Derivative as Rate of Change', '!!!Reversing the Order of Integration', '!!!Approximating Integrals', '!!!Derivative of the Exponential Function', '!!!Separable Differential Equations', '!!!Error Approximation with Differentials', '!!!Indefinite Integrals', '!!!Triple Product', '!!!Line Integrals', '!!!Evaluating Limits via Direct Substitution', '!!!Equation of a Sphere', '!!!Directional Derivatives', '!!!Integration By Parts', '!!!Product Rule', '!!!Quotient Rule', '!!!Initial Condition Problems', '!!!The Characteristic Polynomial']\n"
     ]
    }
   ],
   "source": [
    "from context_templates import *\n",
    "print_lookups()"
   ]
  },
  {
   "cell_type": "code",
   "execution_count": 9,
   "metadata": {
    "collapsed": false,
    "scrolled": true
   },
   "outputs": [
    {
     "name": "stdout",
     "output_type": "stream",
     "text": [
      "!!!L'Hopital's Rule\n",
      "When substitution would cause a limit to go to 0 divided by 0 or infinity divided by infinity, it is said to be of indeterminate form, and L'Hopital's rule can be applied. According to L'Hopital's rule, the limit remains unchanged if we independently differentiate the numerator and denominator of the limit argument, provided the limit has indeterminate form of 0 divided by 0 or infinity divided by infinity. After using L'Hopital's rule, the limit sometimes turns into one which can be solved via direct substitution.\n"
     ]
    }
   ],
   "source": [
    "make_random_context(lookup=\"!!!L'Hopital's Rule\")"
   ]
  },
  {
   "cell_type": "code",
   "execution_count": null,
   "metadata": {
    "collapsed": true
   },
   "outputs": [],
   "source": []
  }
 ],
 "metadata": {
  "kernelspec": {
   "display_name": "Python 2",
   "language": "python",
   "name": "python2"
  },
  "language_info": {
   "codemirror_mode": {
    "name": "ipython",
    "version": 2
   },
   "file_extension": ".py",
   "mimetype": "text/x-python",
   "name": "python",
   "nbconvert_exporter": "python",
   "pygments_lexer": "ipython2",
   "version": "2.7.13"
  }
 },
 "nbformat": 4,
 "nbformat_minor": 2
}
