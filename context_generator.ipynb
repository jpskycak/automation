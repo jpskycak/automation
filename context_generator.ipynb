{
 "cells": [
  {
   "cell_type": "code",
   "execution_count": 1,
   "metadata": {
    "collapsed": false
   },
   "outputs": [
    {
     "name": "stdout",
     "output_type": "stream",
     "text": [
      "['!!!Path Integrals', '!!!Tangent Planes', '!!!Dot Product', '!!!Cross Product', '!!!Lagrange Multipliers', \"!!!Hooke's Law\", '!!!Optimizing via Critical Points', '!!!Linear Approximation', '!!!The Fundamental Theorem of Calculus', '!!!Tangent Lines', '!!!Kinematics', '!!!Polar Coordinates', '!!!Arc Length', '!!!Inflection Points', \"!!!L'Hopital's Rule\", '!!!Acceleration, Velocity, and Position', '!!!Average Value of a Function', '!!!Derivative as Rate of Change', '!!!Approximating Integrals', '!!!Derivative of the Exponential Function', '!!!Separable Differential Equations', '!!!Indefinite Integrals', '!!!Triple Product', '!!!Line Integrals', '!!!Evaluating Limits via Direct Substitution', '!!!Equation of a Sphere', '!!!Directional Derivatives', '!!!Product Rule', '!!!Quotient Rule', '!!!Initial Condition Problems', '!!!The Characteristic Polynomial']\n"
     ]
    }
   ],
   "source": [
    "from context_templates import *\n",
    "print_lookups()"
   ]
  },
  {
   "cell_type": "code",
   "execution_count": 2,
   "metadata": {
    "collapsed": false
   },
   "outputs": [
    {
     "name": "stdout",
     "output_type": "stream",
     "text": [
      "!!!Derivative of the Exponential Function\n",
      "The exponential function is given by {eq}e^x{/eq}, where {eq}e \u0007pprox 2.71{/eq} is Euler's constant. It is the function with the special property that its derivative is itself. That is to say, if {eq}f(x) = e^x{/eq}, then {eq}f'(x) = e^x{/eq}, and thus {eq}f^{(n)}(x) = e^x{/eq} for every 'n'th derivative. We sometimes also encounter exponential functions of the form {eq}e^{rx}{/eq} for a constant {eq}r{/eq}. If {eq}f(x) = e^{rx}{/eq}, then by the chain rule we have {eq}f'(x) = re^{rx}{/eq}, and thus {eq}f^{(n)}(x) = r^ne^{rx}{/eq} for every 'n'th derivative.\n"
     ]
    }
   ],
   "source": [
    "make_random_context(lookup='!!!Derivative of the Exponential Function')"
   ]
  },
  {
   "cell_type": "code",
   "execution_count": null,
   "metadata": {
    "collapsed": true
   },
   "outputs": [],
   "source": []
  }
 ],
 "metadata": {
  "kernelspec": {
   "display_name": "Python 2",
   "language": "python",
   "name": "python2"
  },
  "language_info": {
   "codemirror_mode": {
    "name": "ipython",
    "version": 2
   },
   "file_extension": ".py",
   "mimetype": "text/x-python",
   "name": "python",
   "nbconvert_exporter": "python",
   "pygments_lexer": "ipython2",
   "version": "2.7.13"
  }
 },
 "nbformat": 4,
 "nbformat_minor": 2
}
