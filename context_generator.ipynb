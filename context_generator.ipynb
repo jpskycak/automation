{
 "cells": [
  {
   "cell_type": "code",
   "execution_count": 1,
   "metadata": {
    "collapsed": false
   },
   "outputs": [
    {
     "name": "stdout",
     "output_type": "stream",
     "text": [
      "['!!!Path Integrals', '!!!Tangent Planes', '!!!Dot Product', '!!!Cross Product', '!!!Lagrange Multipliers', \"!!!Hooke's Law\", '!!!Optimizing via Critical Points', '!!!Linear Approximation', '!!!Tangent Lines', '!!!Kinematics', '!!!Arc Length', '!!!Inflection Points', \"!!!L'Hopital's Rule\", '!!!Average Value of a Function', '!!!Derivative as Rate of Change', '!!!Separable Differential Equations', '!!!Indefinite Integrals', '!!!Triple Product', '!!!Line Integrals', '!!!Equation of a Sphere', '!!!Directional Derivatives', '!!!Initial Condition Problems']\n"
     ]
    }
   ],
   "source": [
    "from context_templates import *\n",
    "print_lookups()"
   ]
  },
  {
   "cell_type": "code",
   "execution_count": 3,
   "metadata": {
    "collapsed": false
   },
   "outputs": [
    {
     "name": "stdout",
     "output_type": "stream",
     "text": [
      "!!!Optimizing via Critical Points\n",
      "The derivative must be zero or undefined at the maximum or minimum of a differentiable function. Therefore, we can find candidates for the maximum or minimum of a function by solving for those points which make the derivative zero or undefined. These points are called critical points. That being said, some local optima my be more optimal than others, so critical points do not necessarily correspond to global optima of the function. Critical points need not even correspond to local optima of the function, though. For example, the derivative is also zero at saddle points, where the function momentarily stops increasing or decreasing but then continues in the same direction. Thus, optimizing a function requires us to evaluate the function at each of the critical points and then compare the resulting values.\n"
     ]
    }
   ],
   "source": [
    "make_random_context(lookup='!!!Optimizing via Critical Points')"
   ]
  },
  {
   "cell_type": "code",
   "execution_count": null,
   "metadata": {
    "collapsed": true
   },
   "outputs": [],
   "source": []
  }
 ],
 "metadata": {
  "kernelspec": {
   "display_name": "Python 2",
   "language": "python",
   "name": "python2"
  },
  "language_info": {
   "codemirror_mode": {
    "name": "ipython",
    "version": 2
   },
   "file_extension": ".py",
   "mimetype": "text/x-python",
   "name": "python",
   "nbconvert_exporter": "python",
   "pygments_lexer": "ipython2",
   "version": "2.7.13"
  }
 },
 "nbformat": 4,
 "nbformat_minor": 2
}
