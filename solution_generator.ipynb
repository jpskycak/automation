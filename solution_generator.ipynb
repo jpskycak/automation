{
 "cells": [
  {
   "cell_type": "code",
   "execution_count": 29,
   "metadata": {
    "collapsed": false
   },
   "outputs": [],
   "source": [
    "from sympy import *\n",
    "x, y, z = symbols('x y z')\n",
    "init_printing()\n",
    "\n",
    "def cms_markup(arg,eq=False,mathjax=False,newline=False):\n",
    "    bracket_format = latex(arg).replace('}}','} }').replace('}}','} }').replace('}}','} }').replace('}}','} }').replace('}}','} }').replace('}}','} }').replace('}}','} }').replace('}}','} }').replace('}}','} }')\n",
    "    if eq:\n",
    "        return \"{eq}\"+bracket_format+\"{/eq}\"\n",
    "    if newline:\n",
    "        return bracket_format+\" \\\\\\\\\" \n",
    "    else:\n",
    "        return bracket_format"
   ]
  },
  {
   "cell_type": "code",
   "execution_count": 30,
   "metadata": {
    "collapsed": false
   },
   "outputs": [
    {
     "name": "stdout",
     "output_type": "stream",
     "text": [
      "[{MathJax fullWidth='false'\n",
      "\\left(x - 8\\right)^{\\frac{4}{3} } \\\\\n",
      "\\frac{4}{3} \\sqrt[3]{x - 8} \\\\\n",
      "\\frac{4}{9 \\left(x - 8\\right)^{\\frac{2}{3} } }\n",
      "}]\n"
     ]
    }
   ],
   "source": [
    "print \"[{MathJax fullWidth='false'\"\n",
    "print cms_markup((x-8)**Rational(4,3),newline=True)\n",
    "print cms_markup(diff((x-8)**Rational(4,3)),newline=True)\n",
    "print cms_markup(diff(diff((x-8)**Rational(4,3))))\n",
    "print \"}]\""
   ]
  },
  {
   "cell_type": "code",
   "execution_count": null,
   "metadata": {
    "collapsed": false
   },
   "outputs": [],
   "source": [
    "print cms_markup(latex(diff(diff(ln(1+x)-ln(x+sqrt(1+x**2))), x)))"
   ]
  },
  {
   "cell_type": "code",
   "execution_count": null,
   "metadata": {
    "collapsed": true
   },
   "outputs": [],
   "source": [
    "v1 = Matrix([1,2,3])"
   ]
  },
  {
   "cell_type": "code",
   "execution_count": null,
   "metadata": {
    "collapsed": false
   },
   "outputs": [],
   "source": [
    "latex(v1)"
   ]
  },
  {
   "cell_type": "code",
   "execution_count": null,
   "metadata": {
    "collapsed": true
   },
   "outputs": [],
   "source": []
  },
  {
   "cell_type": "code",
   "execution_count": null,
   "metadata": {
    "collapsed": true
   },
   "outputs": [],
   "source": []
  },
  {
   "cell_type": "code",
   "execution_count": null,
   "metadata": {
    "collapsed": false
   },
   "outputs": [],
   "source": [
    "def vector(vec=[1,2,3],eq=False):\n",
    "    s = \"\\\\langle \"\n",
    "    for component in vec:\n",
    "        s += str(component)+\", \"\n",
    "    s = s[:-2]\n",
    "    s += \" \\\\rangle\"\n",
    "    if eq:\n",
    "        return \"{eq}\"+s+\"{/eq}\"\n",
    "    else:\n",
    "        return s\n",
    "\n",
    "def dot_product(a=[1,2,3],b=[4,5,6],eq=False):\n",
    "    lines = []\n",
    "    s = vector(a)+\" \\\\cdot \"+vector(b)\n",
    "    lines.append(s)\n",
    "    s = vector([str(a[i])+\"+\"+str(b[i]) for i in range(len(a))])\n",
    "    lines.append(s)\n",
    "    s = vector([a[i]+b[i] for i in range(len(a))])\n",
    "    lines.append(s)\n",
    "    \n",
    "    if eq:\n",
    "        for i in range(len(lines)):\n",
    "            if i==0:\n",
    "                lines[0] = \"{eq}\"+lines[0]+\"{/eq}\"\n",
    "            else:\n",
    "                lines[i] = \"{eq}=\"+lines[i]+\"{/eq}\"\n",
    "    return lines"
   ]
  },
  {
   "cell_type": "code",
   "execution_count": null,
   "metadata": {
    "collapsed": false
   },
   "outputs": [],
   "source": [
    "print vector([1,2,4,5,6])"
   ]
  },
  {
   "cell_type": "code",
   "execution_count": null,
   "metadata": {
    "collapsed": false
   },
   "outputs": [],
   "source": [
    "dot_product()"
   ]
  },
  {
   "cell_type": "code",
   "execution_count": null,
   "metadata": {
    "collapsed": true
   },
   "outputs": [],
   "source": []
  }
 ],
 "metadata": {
  "kernelspec": {
   "display_name": "Python 2",
   "language": "python",
   "name": "python2"
  },
  "language_info": {
   "codemirror_mode": {
    "name": "ipython",
    "version": 2
   },
   "file_extension": ".py",
   "mimetype": "text/x-python",
   "name": "python",
   "nbconvert_exporter": "python",
   "pygments_lexer": "ipython2",
   "version": "2.7.13"
  }
 },
 "nbformat": 4,
 "nbformat_minor": 2
}
